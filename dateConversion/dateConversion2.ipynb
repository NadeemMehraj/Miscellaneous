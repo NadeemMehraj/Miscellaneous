{
 "cells": [
  {
   "cell_type": "code",
   "execution_count": 2,
   "metadata": {},
   "outputs": [],
   "source": [
    "import re"
   ]
  },
  {
   "cell_type": "code",
   "execution_count": 3,
   "metadata": {},
   "outputs": [],
   "source": [
    "seps = ['-','/',' ','.']\n",
    "sepRe = re.compile('[-/ \\.]')"
   ]
  },
  {
   "cell_type": "code",
   "execution_count": 4,
   "metadata": {},
   "outputs": [],
   "source": [
    "monthMapping = {'JAN': '01', 'JANUARY': '01',\n",
    "                'FEB': '02', 'FEBRUARY': '02',\n",
    "                'MAR': '03', 'MARCH': '03',\n",
    "                'APR': '04', 'APRIL': '04',\n",
    "                'MAY': '05',\n",
    "                'JUN': '06', 'JUNE': '06',\n",
    "                'JUL': '07', 'JULY': '07',\n",
    "                'AUG': '08', 'AUG': '08',\n",
    "                'SEP': '09', 'SEPTEMPBER': '09',\n",
    "                'OCT': '10', 'OCTOBER': '10',\n",
    "                'NOV': '11', 'NOVEMBER': '11',\n",
    "                'DEC': '12', 'DECEMBER': '12'\n",
    "                   }"
   ]
  },
  {
   "cell_type": "code",
   "execution_count": 5,
   "metadata": {},
   "outputs": [],
   "source": [
    "def checkYear(date,separator):\n",
    "    if len(date[:date.find(separator)]) == 4 or len(date[date.find(separator) + 1:]) == 4:\n",
    "        return True\n",
    "    else:\n",
    "        return False"
   ]
  },
  {
   "cell_type": "code",
   "execution_count": 6,
   "metadata": {},
   "outputs": [],
   "source": [
    "def findYearPos(date,separator):\n",
    "    return 'begin' if len(date[:date.find(separator)]) == 4 else 'end'"
   ]
  },
  {
   "cell_type": "code",
   "execution_count": 7,
   "metadata": {},
   "outputs": [],
   "source": [
    "def mapMonth(date,separator):\n",
    "    \n",
    "    monthStartPos,monthEndPos = re.search('[a-zA-Z]+',date).start(), re.search('[a-zA-Z]+',date).end()\n",
    "    month = monthMapping[date[monthStartPos:monthEndPos].upper()]\n",
    "    \n",
    "    sepIterator = sepRe.finditer(date)\n",
    "    sepList = [match.span() for match in sepIterator]\n",
    "    \n",
    "    if monthStartPos == 0 and len(sepList) == 2:\n",
    "        print(date[monthEndPos + 1:date.find(separator)])\n",
    "        date = date[monthEndPos + 1:sepList[1][0]] + separator + month + date[sepList[1][0]:]\n",
    "        \n",
    "    elif monthStartPos == 0 and len(sepList) == 1 and len(date[monthEndPos + 1:]) != 4:\n",
    "        date = date[monthEndPos + 1] + separator + month\n",
    "        \n",
    "    else:\n",
    "        date = date[:monthStartPos] + month + date[monthEndPos:]\n",
    "        \n",
    "    return date"
   ]
  },
  {
   "cell_type": "code",
   "execution_count": 8,
   "metadata": {},
   "outputs": [],
   "source": [
    "def cleanDate(date):\n",
    "    index = 0\n",
    "    for item in ['st', 'nd', 'rd', 'th']:\n",
    "        if item in date:\n",
    "            date = date.replace(item,'')\n",
    "    return date"
   ]
  },
  {
   "cell_type": "code",
   "execution_count": 9,
   "metadata": {},
   "outputs": [],
   "source": [
    "def guessDateFormat(date,outputFormat):\n",
    "    if '-' in date:\n",
    "        separator = '-'\n",
    "    elif '/' in date:\n",
    "        separator = '/'\n",
    "    elif ' ' in date:\n",
    "        separator = ' '\n",
    "    else:\n",
    "        separator = None\n",
    "        \n",
    "    date = cleanDate(date)\n",
    "    \n",
    "    if re.search('[a-zA-Z]',date) is not None:\n",
    "        date = mapMonth(date,separator)\n",
    "    \n",
    "    if separator == None and len(date)==4:\n",
    "        actualInputFormat = '%Y'\n",
    "        actualOutputFormat = '%Y'\n",
    "    \n",
    "    elif separator == None and len(date) == 8:\n",
    "        actualInputFormat = '%d%m%Y'\n",
    "        actualOutputFormat = outputFormat\n",
    "    \n",
    "    elif date.count(separator) == 1:\n",
    "        yearPresent = checkYear(date,separator)\n",
    "        \n",
    "        if yearPresent and findYearPos(date,separator) == 'begin':\n",
    "            actualInputFormat = '%Y' + separator + '%m'\n",
    "            actualOutputFormat = '%m-%Y'\n",
    "            \n",
    "        elif yearPresent and findYearPos(date,separator) == 'end':\n",
    "            actualInputFormat = '%m'+ separator + '%Y'\n",
    "            actualOutputFormat = '%m-%Y'\n",
    "            \n",
    "        else:\n",
    "            actualInputFormat = '%m' + separator + '%d' if int(date[date.find(separator)+1:]) > 12 else '%d' + separator + '%m'\n",
    "            actualOutputFormat = '%d-%m'\n",
    "            \n",
    "    elif len(date[:date.find(separator)]) < 4:\n",
    "        actualInputFormat = '%d' + separator + '%m' + separator + '%Y'\n",
    "        actualOutputFormat = '%d-%m-%Y'\n",
    "        \n",
    "    else:\n",
    "        actualInputFormat = '%Y' + separator + '%m' + separator + '%d'\n",
    "        actualOutputFormat = '%d-%m-%Y'\n",
    "            \n",
    "    return actualOutputFormat"
   ]
  },
  {
   "cell_type": "code",
   "execution_count": 10,
   "metadata": {},
   "outputs": [],
   "source": [
    "def convert_date(date, output_format=\"%d-%b-%Y\"):\n",
    "    from dateutil.parser import parse\n",
    "    from datetime import datetime\n",
    "    try:\n",
    "        actual_output_format = guessDateFormat(date,output_format)\n",
    "        pd = parse(date)\n",
    "        return pd.strftime(actual_output_format)\n",
    "    except Exception as e:\n",
    "#         print (\"eee\")\n",
    "        for i,fort in enumerate([\"%d%m%Y\",\"%Y%m%d\",\"%Y%d%m\",\"%m%d%Y\"]):\n",
    "            try:\n",
    "#                 print i,fort,date\n",
    "                d = datetime.strptime(date,fort ).date()\n",
    "                d.replace( year=d.year-100 )#^2053   ^1953\n",
    "                d = d.strftime(actual_output_format)\n",
    "                return d,fort\n",
    "            \n",
    "            except Exception as e:\n",
    "                pass\n",
    "#                 print \"format>>\", e\n",
    "        pass\n",
    "#         print \"E\", e\n",
    "    return "
   ]
  },
  {
   "cell_type": "code",
   "execution_count": 12,
   "metadata": {},
   "outputs": [
    {
     "name": "stdout",
     "output_type": "stream",
     "text": [
      "06-1987\n"
     ]
    }
   ],
   "source": [
    "print(convert_date(\"06/1987\",output_format=\"%d-%b-%Y\"))"
   ]
  }
 ],
 "metadata": {
  "kernelspec": {
   "display_name": "Python 3",
   "language": "python",
   "name": "python3"
  },
  "language_info": {
   "codemirror_mode": {
    "name": "ipython",
    "version": 3
   },
   "file_extension": ".py",
   "mimetype": "text/x-python",
   "name": "python",
   "nbconvert_exporter": "python",
   "pygments_lexer": "ipython3",
   "version": "3.7.3"
  }
 },
 "nbformat": 4,
 "nbformat_minor": 2
}
